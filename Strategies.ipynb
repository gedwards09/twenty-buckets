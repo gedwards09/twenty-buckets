{
 "cells": [
  {
   "cell_type": "markdown",
   "metadata": {},
   "source": [
    "## The Twenty-Number Challenge\n",
    "\n",
    "The Twenty-Number challenge is a game where a player selects integers uniformly at random (typically from 1 to 1,000) which must be placed into a fixed number of \"buckets\" (typically twenty) such that after each turn the numbers are placed in increasing order. If the player cannot place the drawn number into any bucket such that the numbers are in increasing order then the player's turn is over.\n",
    "\n",
    "#### Terminology\n",
    "\n",
    "Define $M$ to be the maximum of the range of integers (typically $M = 1000$). We let $n$ be the total number of buckets (typically $n=20$). We will always assume $n << M$.\n",
    "\n",
    "For a random variable $X$, we write $X \\sim \\mathscr U \\left \\{ A, B \\right \\}$ for a uniformly random selected $\\textit{integer}$ in the range $A$ to $B$, inclusive ([Wikipedia: Discrete Uniform Distribution](https://en.wikipedia.org/wiki/Discrete_uniform_distribution)). We write $X \\sim U \\left[a,b\\right]$ for a uniformly random continuous variable in $[a,b]$ ([Wikipedia: Continuous Uniform Distribution](https://en.wikipedia.org/wiki/Continuous_uniform_distribution)).\n",
    "\n",
    "Given random varables $X_1,\\ldots,X_n$, we write $Y_j$ for the $j$-th largest value selected (counted with multiplicity in case there are repeated values)."
   ]
  },
  {
   "cell_type": "markdown",
   "metadata": {},
   "source": [
    "### The Naive Strategy\n",
    "\n",
    "The first strategy we'll consider is called the naive strategy. It serves as a first approximation at a solution and will be a benchmark against which we can compare more complicated strategies. The strategy is based on the observation that:\n",
    "\n",
    "Claim: Let $X_1,\\ldots,X_n$ be random variables selected independently, uniformly at random, on the interval $\\left[0,1\\right]$ (that is, $X_1,\\ldots,X_n \\sim U \\left [ 0 , 1 \\right ]$). Then with probability 1, the $X_i$ are distinct, and we can place them in increasing order. If $Y_i$ is the $i$-th random variable in increasing order, then the expected value of $Y_i$ is given by $$\\mathbb E \\left [ Y_i \\right ] = \\frac i {n+1}.$$\n",
    "\n",
    "That is, given $n$ random numbers between zero and one, on average, the $i$-th largest number is about $\\frac i {n+1}$.\n",
    "\n",
    "Based on this claim, and the observation that if $X \\sim \\mathscr U \\{1, M\\}$, then $\\frac 1 {M+1} X$ is approximately uniformly distributed (specifically, converges in distribution as $M \\to \\infty$ ([Wikipedia: Convergence in Distribution](https://en.wikipedia.org/wiki/Convergence_of_random_variables#Convergence_in_distribution))), we conclude that if we select integers $X_1,\\ldots,X_n \\sim \\mathscr{U} \\left \\{ 1 , M \\right\\}$, then on average the $i$-th largest value, $Y_i$, is approximately $Y_i \\approx (M + 1) \\frac {i}{n+1}$. \n",
    "\n",
    "Now, if we do win the Twenty-Number Challenge having drawn random variables $X_1,\\ldots,X_n$, then if one of those random variables (say, the first one) draws value $X_1 = x$, then that variable is most likely to be the $i$-th largest of the $n$ on average where $i$ is the closest index to $\\frac {n+1}{M+1} x$.\n",
    "\n",
    "Equivalently, $i$ is the index such that $i \\leq \\frac {n+1}{M+1} x + \\frac 1 2 < i + 1$, we write $i = \\lfloor \\frac {n+1}{M+1}x + \\frac 1 2 \\rfloor$ (notation: [Wikipedia: Floor Function](https://en.wikipedia.org/wiki/Floor_and_ceiling_functions))\n",
    "\n",
    "Using this we arrive at the following basic strategy:\n",
    "If we draw random integer $X = x$, we should place it as close to index $i$ ."
   ]
  },
  {
   "cell_type": "markdown",
   "metadata": {},
   "source": [
    "Claim: Suppose we have random variables $X_1,\\ldots,X_n \\sim \\mathscr U \\{1, M\\}$, and suppose one of those variables (say, the first one) has value $X_1 = x$. Then for $M >> n$, the index $i$ which maximizes the likelihood function is:"
   ]
  },
  {
   "cell_type": "markdown",
   "metadata": {},
   "source": [
    "$\\textbf{Proof:}$\n",
    "Given $X_1 = x$, the rest of the $(n-1)$-random variables to fit into one of three categories:\n",
    "    \n",
    "1) Variables $1 \\leq X_i \\leq x-1$ occuring each with probability $\\big( \\frac {x-1}{M} \\big)$.\n",
    "\n",
    "2) Variables $x+1 \\leq X_i \\leq M$, each with probability $\\big( \\frac {M-x}{M} \\big)$\n",
    "\n",
    "3) Variables $X_i = x$, each with probability $\\big ( \\frac 1 M \\big )$.\n",
    "\n",
    "Suppose there are $a\\geq0$ variables in category 1, $b\\geq0$ in category 2, and $c\\geq0$ in category 3, so that $a+b+c = n-1$.\n",
    "\n",
    "Then the likelihood of that arrangement is\n",
    "$$ L_{a,b,c} = \\Big( \\frac {x-1} M \\Big)^a \\Big( \\frac {M-x} M \\Big)^b \\Big( \\frac 1 M \\Big )^c \\cdot \\frac {(n-1)!}{a!b!c!}$$.\n",
    "\n",
    "The miximum likelihood index is determined by maximizing the likelihood over all combinations of $(a,b,c)$. There are only a finite number of such combination, so a maximum is guaranteed to be achieved.\n",
    "\n",
    "$\\textbf{Subclaim:}$\n",
    "If $M > 2n$, then $c=0$ at the maximum likelihood index.\n",
    "\n",
    "$\\textbf{Proof of Subclaim:}$\n",
    "Suppose for $L_{a,b,c}$ is the maximum with $c>0$. We compare $L_{a,b,c}$ with $L_{a+1,b,c-1}$:\n",
    "\n",
    "Now, $L_{a+1,b,c-1} \\leq L_{a,b,c}$ if and only if\n",
    "$$\\Big( \\frac {x-1} M \\Big)^{a+1} \\Big( \\frac {M-x} M \\Big)^b \\Big( \\frac 1 M \\Big )^{c-1} \\frac {(n-1)!}{(a+1)!b!(c-1)!} \\leq \\Big( \\frac {x-1} M \\Big)^a \\Big( \\frac {M-x} M \\Big)^b \\Big( \\frac 1 M \\Big )^c \\cdot \\frac {(n-1)!}{a!b!c!},$$\n",
    "if and only if\n",
    "$$ \\frac {x-1} {a+1} \\leq \\frac 1 c.$$\n",
    "Hence,\n",
    "$$L_{a+1,b,c-1} \\leq L_{a,b,c} \\,\\,\\,\\,\\text{if and only if}\\,\\,\\,\\, x \\leq 1 + \\frac {a+1} c. \\,\\,\\,\\,(1.0)$$\n",
    "\n",
    "Since $a$ and $b$ are non-negative, $c\\geq 1$, and $a+b+c=n-1$, this is only possible if \n",
    "$$x \\leq 1 + \\frac {a+1} c \\leq n.$$\n",
    "\n",
    "A similar argument comparing $L_{a,b,c}$ to $L_{a,b+1,c-1}$ yields that \n",
    "$$L_{a,b+1,c-1} \\leq L_{a,b,c} \\,\\,\\,\\,\\text{if and only if}\\,\\,\\,\\, x \\geq M - \\frac b c, \\,\\,\\,\\,(1.1)$$\n",
    "which is possible only if\n",
    "$$ x \\geq M - \\frac b c \\geq M - (n-2).$$\n",
    "\n",
    "Now, suppose $M >> n$, so that $x \\leq n$ implies $x < M - (n-2)$ (taking $M \\geq 2n-1$ is sufficient). Then, if the maximum $(a,b,c)$ occurs with $c>0$, we must have $L_{a+1,b,c-1} \\leq L_{a,b,c}$ (because it is the maximum). Therefore $x \\leq 1 + \\frac {a+1} c \\leq n$, but since $M>>n$, we have $x < M - (n-2)$, and so by equation (1.1), $L_{a,b,c} < L_{a,b+1,c-1}$, and so $L_{a,b,c}$ cannot be the maximum. Hence the maximum must occur with $c=0$."
   ]
  },
  {
   "cell_type": "code",
   "execution_count": null,
   "metadata": {},
   "outputs": [],
   "source": []
  }
 ],
 "metadata": {
  "kernelspec": {
   "display_name": "Python 3",
   "language": "python",
   "name": "python3"
  },
  "language_info": {
   "codemirror_mode": {
    "name": "ipython",
    "version": 3
   },
   "file_extension": ".py",
   "mimetype": "text/x-python",
   "name": "python",
   "nbconvert_exporter": "python",
   "pygments_lexer": "ipython3",
   "version": "3.8.5"
  }
 },
 "nbformat": 4,
 "nbformat_minor": 4
}

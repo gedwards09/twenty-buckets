{
 "cells": [
  {
   "cell_type": "code",
   "execution_count": 1,
   "metadata": {},
   "outputs": [],
   "source": [
    "import math\n",
    "from BinsGame import BinsGame\n",
    "from MaximumLikelihoodStrategy import MaximumLikelihoodStrategy"
   ]
  },
  {
   "cell_type": "code",
   "execution_count": 2,
   "metadata": {},
   "outputs": [],
   "source": [
    "bins = BinsGame(20, 1000, MaximumLikelihoodStrategy())"
   ]
  },
  {
   "cell_type": "code",
   "execution_count": 5,
   "metadata": {},
   "outputs": [
    {
     "data": {
      "text/plain": [
       "5"
      ]
     },
     "execution_count": 5,
     "metadata": {},
     "output_type": "execute_result"
    }
   ],
   "source": [
    "bins.play()"
   ]
  },
  {
   "cell_type": "code",
   "execution_count": 6,
   "metadata": {},
   "outputs": [
    {
     "name": "stdout",
     "output_type": "stream",
     "text": [
      "0 0.000\n",
      "1 0.000\n",
      "2 0.003\n",
      "3 0.008\n",
      "4 0.018\n",
      "5 0.030\n",
      "6 0.046\n",
      "7 0.065\n",
      "8 0.083\n",
      "9 0.097\n",
      "10 0.109\n",
      "11 0.116\n",
      "12 0.110\n",
      "13 0.099\n",
      "14 0.083\n",
      "15 0.059\n",
      "16 0.039\n",
      "17 0.021\n",
      "18 0.010\n",
      "19 0.004\n",
      "20 0.001\n"
     ]
    }
   ],
   "source": [
    "times = 100000\n",
    "outcomes = [0 for i in range(21)]\n",
    "for i in range(times):\n",
    "    n = bins.play()\n",
    "    outcomes[n] += 1/times\n",
    "for i in range(len(outcomes)):\n",
    "    print(i, '{:0.3f}'.format(outcomes[i]))"
   ]
  },
  {
   "cell_type": "code",
   "execution_count": 7,
   "metadata": {},
   "outputs": [
    {
     "name": "stdout",
     "output_type": "stream",
     "text": [
      "0 0.000\n",
      "1 0.000\n",
      "2 0.003\n",
      "3 0.011\n",
      "4 0.028\n",
      "5 0.059\n",
      "6 0.105\n",
      "7 0.169\n",
      "8 0.252\n",
      "9 0.349\n",
      "10 0.458\n",
      "11 0.575\n",
      "12 0.685\n",
      "13 0.784\n",
      "14 0.867\n",
      "15 0.926\n",
      "16 0.964\n",
      "17 0.985\n",
      "18 0.996\n",
      "19 0.999\n",
      "20 1.000\n"
     ]
    }
   ],
   "source": [
    "# cumulative\n",
    "\n",
    "for i in range(len(outcomes)):\n",
    "    print(i, '{:0.3f}'.format(sum(outcomes[0:i+1])))"
   ]
  },
  {
   "cell_type": "code",
   "execution_count": 15,
   "metadata": {},
   "outputs": [
    {
     "name": "stdout",
     "output_type": "stream",
     "text": [
      "0 1.000\n",
      "1 1.000\n",
      "2 1.000\n",
      "3 1.000\n",
      "4 1.000\n",
      "5 1.000\n",
      "6 1.000\n",
      "7 1.000\n",
      "8 0.996\n",
      "9 0.975\n",
      "10 0.901\n",
      "11 0.735\n",
      "12 0.479\n",
      "13 0.235\n",
      "14 0.079\n",
      "15 0.017\n",
      "16 0.002\n",
      "17 0.000\n",
      "18 0.000\n",
      "19 0.000\n",
      "20 0.000\n"
     ]
    }
   ],
   "source": [
    "# probability that at least kmin poeple get better than i \n",
    "n = 8\n",
    "kmin = 3\n",
    "for i in range(len(outcomes)):\n",
    "    prob = 0\n",
    "    for k in range(kmin, n+1):\n",
    "        coef = math.comb(n,k)\n",
    "        p = sum(outcomes[0:i+1])\n",
    "        prob += coef * p**(n-k) * (1-p)**k\n",
    "    print(i, '{:0.3f}'.format(prob))"
   ]
  },
  {
   "cell_type": "code",
   "execution_count": 17,
   "metadata": {},
   "outputs": [
    {
     "name": "stdout",
     "output_type": "stream",
     "text": [
      "0.8259284133592002\n"
     ]
    }
   ],
   "source": [
    "prod = 1\n",
    "for i in range(20):\n",
    "    prod *= (1000 - i)/1000\n",
    "print(prod)"
   ]
  }
 ],
 "metadata": {
  "kernelspec": {
   "display_name": "Python 3",
   "language": "python",
   "name": "python3"
  },
  "language_info": {
   "codemirror_mode": {
    "name": "ipython",
    "version": 3
   },
   "file_extension": ".py",
   "mimetype": "text/x-python",
   "name": "python",
   "nbconvert_exporter": "python",
   "pygments_lexer": "ipython3",
   "version": "3.8.5"
  }
 },
 "nbformat": 4,
 "nbformat_minor": 5
}

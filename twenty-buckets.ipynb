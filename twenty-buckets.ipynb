{
 "cells": [
  {
   "cell_type": "code",
   "execution_count": 2,
   "metadata": {},
   "outputs": [],
   "source": [
    "import math\n",
    "from Python.BinsGame import BinsGame\n",
    "from Python.MaximumLikelihoodStrategy import MaximumLikelihoodStrategy\n",
    "from Python.NaiveStrategy import NaiveStrategy\n",
    "from Python.GameEngine import GameEngine"
   ]
  },
  {
   "cell_type": "markdown",
   "metadata": {},
   "source": []
  },
  {
   "cell_type": "code",
   "execution_count": null,
   "metadata": {},
   "outputs": [],
   "source": [
    "bins = BinsGame(20, 1000, MaximumLikelihoodStrategy())\n",
    "gameEngine = GameEngine(bins, 1000000)\n",
    "gameEngine.summary()"
   ]
  },
  {
   "cell_type": "code",
   "execution_count": null,
   "metadata": {},
   "outputs": [],
   "source": [
    "bins = BinsGame(20, 1000, NaiveStrategy())\n",
    "gameEngine = GameEngine(bins, 1000000)\n",
    "gameEngine.summary()"
   ]
  },
  {
   "cell_type": "code",
   "execution_count": 4,
   "metadata": {},
   "outputs": [
    {
     "name": "stdout",
     "output_type": "stream",
     "text": [
      "0 0.000\n",
      "1 0.000\n",
      "2 0.002\n",
      "3 0.010\n",
      "4 0.023\n",
      "5 0.040\n",
      "6 0.059\n",
      "7 0.077\n",
      "8 0.095\n",
      "9 0.108\n",
      "10 0.115\n",
      "11 0.114\n",
      "12 0.103\n",
      "13 0.087\n",
      "14 0.067\n",
      "15 0.047\n",
      "16 0.028\n",
      "17 0.015\n",
      "18 0.006\n",
      "19 0.002\n",
      "20 0.001\n"
     ]
    }
   ],
   "source": [
    "# cumulative\n",
    "outcomes = gameEngine._pmf\n",
    "for i in range(len(outcomes)):\n",
    "    print(i, '{:0.3f}'.format(outcomes[i]))"
   ]
  },
  {
   "cell_type": "code",
   "execution_count": 15,
   "metadata": {},
   "outputs": [
    {
     "name": "stdout",
     "output_type": "stream",
     "text": [
      "0 1.000\n",
      "1 1.000\n",
      "2 1.000\n",
      "3 1.000\n",
      "4 1.000\n",
      "5 1.000\n",
      "6 1.000\n",
      "7 1.000\n",
      "8 0.996\n",
      "9 0.975\n",
      "10 0.901\n",
      "11 0.735\n",
      "12 0.479\n",
      "13 0.235\n",
      "14 0.079\n",
      "15 0.017\n",
      "16 0.002\n",
      "17 0.000\n",
      "18 0.000\n",
      "19 0.000\n",
      "20 0.000\n"
     ]
    }
   ],
   "source": [
    "# probability that at least kmin poeple get better than i \n",
    "n = 8\n",
    "kmin = 3\n",
    "for i in range(len(outcomes)):\n",
    "    prob = 0\n",
    "    for k in range(kmin, n+1):\n",
    "        coef = math.comb(n,k)\n",
    "        p = sum(outcomes[0:i+1])\n",
    "        prob += coef * p**(n-k) * (1-p)**k\n",
    "    print(i, '{:0.3f}'.format(prob))"
   ]
  },
  {
   "cell_type": "code",
   "execution_count": 17,
   "metadata": {},
   "outputs": [
    {
     "name": "stdout",
     "output_type": "stream",
     "text": [
      "0.8259284133592002\n"
     ]
    }
   ],
   "source": [
    "prod = 1\n",
    "for i in range(20):\n",
    "    prod *= (1000 - i)/1000\n",
    "print(prod)"
   ]
  }
 ],
 "metadata": {
  "kernelspec": {
   "display_name": "Python 3",
   "language": "python",
   "name": "python3"
  },
  "language_info": {
   "codemirror_mode": {
    "name": "ipython",
    "version": 3
   },
   "file_extension": ".py",
   "mimetype": "text/x-python",
   "name": "python",
   "nbconvert_exporter": "python",
   "pygments_lexer": "ipython3",
   "version": "3.8.5"
  }
 },
 "nbformat": 4,
 "nbformat_minor": 5
}

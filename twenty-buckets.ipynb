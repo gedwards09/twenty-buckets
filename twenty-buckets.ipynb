{
 "cells": [
  {
   "cell_type": "code",
   "execution_count": 1,
   "metadata": {},
   "outputs": [],
   "source": [
    "import math\n",
    "from Python.BinsGame import BinsGame\n",
    "from Python.MaximumLikelihoodStrategy import MaximumLikelihoodStrategy\n",
    "from Python.GameEngine import GameEngine"
   ]
  },
  {
   "cell_type": "code",
   "execution_count": 2,
   "metadata": {},
   "outputs": [
    {
     "name": "stdout",
     "output_type": "stream",
     "text": [
      "Min.:\t 0\n",
      "Min.:\t 1\n",
      "Min.:\t 2\n",
      "1st Qu.: 8\n",
      "Median: 11\n"
     ]
    },
    {
     "ename": "AttributeError",
     "evalue": "type object 'GameEngine' has no attribute 'mean'",
     "output_type": "error",
     "traceback": [
      "\u001b[1;31m---------------------------------------------------------------------------\u001b[0m",
      "\u001b[1;31mAttributeError\u001b[0m                            Traceback (most recent call last)",
      "\u001b[1;32m<ipython-input-2-99e121e45bff>\u001b[0m in \u001b[0;36m<module>\u001b[1;34m\u001b[0m\n\u001b[0;32m      1\u001b[0m \u001b[0mbins\u001b[0m \u001b[1;33m=\u001b[0m \u001b[0mBinsGame\u001b[0m\u001b[1;33m(\u001b[0m\u001b[1;36m20\u001b[0m\u001b[1;33m,\u001b[0m \u001b[1;36m1000\u001b[0m\u001b[1;33m,\u001b[0m \u001b[0mMaximumLikelihoodStrategy\u001b[0m\u001b[1;33m(\u001b[0m\u001b[1;33m)\u001b[0m\u001b[1;33m)\u001b[0m\u001b[1;33m\u001b[0m\u001b[1;33m\u001b[0m\u001b[0m\n\u001b[0;32m      2\u001b[0m \u001b[0mgameEngine\u001b[0m \u001b[1;33m=\u001b[0m \u001b[0mGameEngine\u001b[0m\u001b[1;33m(\u001b[0m\u001b[0mbins\u001b[0m\u001b[1;33m)\u001b[0m\u001b[1;33m\u001b[0m\u001b[1;33m\u001b[0m\u001b[0m\n\u001b[1;32m----> 3\u001b[1;33m \u001b[0mgameEngine\u001b[0m\u001b[1;33m.\u001b[0m\u001b[0msummary\u001b[0m\u001b[1;33m(\u001b[0m\u001b[1;33m)\u001b[0m\u001b[1;33m\u001b[0m\u001b[1;33m\u001b[0m\u001b[0m\n\u001b[0m",
      "\u001b[1;32m~\\Python\\twenty-buckets\\Python\\GameEngine.py\u001b[0m in \u001b[0;36msummary\u001b[1;34m(self)\u001b[0m\n\u001b[0;32m     33\u001b[0m             \u001b[1;32mif\u001b[0m \u001b[0mcumulative\u001b[0m \u001b[1;33m<\u001b[0m \u001b[1;36m.5\u001b[0m \u001b[1;32mand\u001b[0m \u001b[0mcumulative\u001b[0m \u001b[1;33m+\u001b[0m \u001b[0mself\u001b[0m\u001b[1;33m.\u001b[0m\u001b[0m_pmf\u001b[0m\u001b[1;33m[\u001b[0m\u001b[0mi\u001b[0m\u001b[1;33m]\u001b[0m \u001b[1;33m>=\u001b[0m \u001b[1;36m.5\u001b[0m\u001b[1;33m:\u001b[0m\u001b[1;33m\u001b[0m\u001b[1;33m\u001b[0m\u001b[0m\n\u001b[0;32m     34\u001b[0m                 \u001b[0mprint\u001b[0m\u001b[1;33m(\u001b[0m\u001b[1;34m\"Median:\"\u001b[0m\u001b[1;33m,\u001b[0m \u001b[0mi\u001b[0m\u001b[1;33m)\u001b[0m\u001b[1;33m\u001b[0m\u001b[1;33m\u001b[0m\u001b[0m\n\u001b[1;32m---> 35\u001b[1;33m                 \u001b[0mprint\u001b[0m\u001b[1;33m(\u001b[0m\u001b[1;34m\"Mean\\t:\"\u001b[0m\u001b[1;33m,\u001b[0m \u001b[1;34m\"{:.2f}%\"\u001b[0m\u001b[1;33m.\u001b[0m\u001b[0mformat\u001b[0m\u001b[1;33m(\u001b[0m\u001b[0mGameEngine\u001b[0m\u001b[1;33m.\u001b[0m\u001b[0mmean\u001b[0m\u001b[1;33m(\u001b[0m\u001b[0mpmf\u001b[0m\u001b[1;33m)\u001b[0m\u001b[1;33m)\u001b[0m\u001b[1;33m)\u001b[0m\u001b[1;33m\u001b[0m\u001b[1;33m\u001b[0m\u001b[0m\n\u001b[0m\u001b[0;32m     36\u001b[0m             \u001b[1;32mif\u001b[0m \u001b[0mcumulative\u001b[0m \u001b[1;33m<\u001b[0m \u001b[1;36m.75\u001b[0m \u001b[1;32mand\u001b[0m \u001b[0mcumulative\u001b[0m \u001b[1;33m+\u001b[0m \u001b[0mself\u001b[0m\u001b[1;33m.\u001b[0m\u001b[0m_pmf\u001b[0m\u001b[1;33m[\u001b[0m\u001b[0mi\u001b[0m\u001b[1;33m]\u001b[0m \u001b[1;33m>=\u001b[0m \u001b[1;36m.75\u001b[0m\u001b[1;33m:\u001b[0m\u001b[1;33m\u001b[0m\u001b[1;33m\u001b[0m\u001b[0m\n\u001b[0;32m     37\u001b[0m                 \u001b[0mprint\u001b[0m\u001b[1;33m(\u001b[0m\u001b[1;34m\"3rd Qu.:\"\u001b[0m\u001b[1;33m,\u001b[0m \u001b[0mi\u001b[0m\u001b[1;33m)\u001b[0m\u001b[1;33m\u001b[0m\u001b[1;33m\u001b[0m\u001b[0m\n",
      "\u001b[1;31mAttributeError\u001b[0m: type object 'GameEngine' has no attribute 'mean'"
     ]
    }
   ],
   "source": [
    "bins = BinsGame(20, 1000, MaximumLikelihoodStrategy())\n",
    "gameEngine = GameEngine(bins)\n",
    "gameEngine.summary()"
   ]
  },
  {
   "cell_type": "code",
   "execution_count": 7,
   "metadata": {},
   "outputs": [
    {
     "name": "stdout",
     "output_type": "stream",
     "text": [
      "0 0.000\n",
      "1 0.000\n",
      "2 0.003\n",
      "3 0.011\n",
      "4 0.028\n",
      "5 0.059\n",
      "6 0.105\n",
      "7 0.169\n",
      "8 0.252\n",
      "9 0.349\n",
      "10 0.458\n",
      "11 0.575\n",
      "12 0.685\n",
      "13 0.784\n",
      "14 0.867\n",
      "15 0.926\n",
      "16 0.964\n",
      "17 0.985\n",
      "18 0.996\n",
      "19 0.999\n",
      "20 1.000\n"
     ]
    }
   ],
   "source": [
    "# cumulative\n",
    "\n",
    "for i in range(len(outcomes)):\n",
    "    print(i, '{:0.3f}'.format(sum(outcomes[0:i+1])))"
   ]
  },
  {
   "cell_type": "code",
   "execution_count": 15,
   "metadata": {},
   "outputs": [
    {
     "name": "stdout",
     "output_type": "stream",
     "text": [
      "0 1.000\n",
      "1 1.000\n",
      "2 1.000\n",
      "3 1.000\n",
      "4 1.000\n",
      "5 1.000\n",
      "6 1.000\n",
      "7 1.000\n",
      "8 0.996\n",
      "9 0.975\n",
      "10 0.901\n",
      "11 0.735\n",
      "12 0.479\n",
      "13 0.235\n",
      "14 0.079\n",
      "15 0.017\n",
      "16 0.002\n",
      "17 0.000\n",
      "18 0.000\n",
      "19 0.000\n",
      "20 0.000\n"
     ]
    }
   ],
   "source": [
    "# probability that at least kmin poeple get better than i \n",
    "n = 8\n",
    "kmin = 3\n",
    "for i in range(len(outcomes)):\n",
    "    prob = 0\n",
    "    for k in range(kmin, n+1):\n",
    "        coef = math.comb(n,k)\n",
    "        p = sum(outcomes[0:i+1])\n",
    "        prob += coef * p**(n-k) * (1-p)**k\n",
    "    print(i, '{:0.3f}'.format(prob))"
   ]
  },
  {
   "cell_type": "code",
   "execution_count": 17,
   "metadata": {},
   "outputs": [
    {
     "name": "stdout",
     "output_type": "stream",
     "text": [
      "0.8259284133592002\n"
     ]
    }
   ],
   "source": [
    "prod = 1\n",
    "for i in range(20):\n",
    "    prod *= (1000 - i)/1000\n",
    "print(prod)"
   ]
  }
 ],
 "metadata": {
  "kernelspec": {
   "display_name": "Python 3",
   "language": "python",
   "name": "python3"
  },
  "language_info": {
   "codemirror_mode": {
    "name": "ipython",
    "version": 3
   },
   "file_extension": ".py",
   "mimetype": "text/x-python",
   "name": "python",
   "nbconvert_exporter": "python",
   "pygments_lexer": "ipython3",
   "version": "3.8.5"
  }
 },
 "nbformat": 4,
 "nbformat_minor": 5
}
